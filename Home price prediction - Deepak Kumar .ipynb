{
 "cells": [
  {
   "cell_type": "markdown",
   "id": "34972820",
   "metadata": {},
   "source": [
    "<font size=\"6\" color='Teal'>Fire up Numpy, Pandas, Seaborn, and Matplotlib</font>"
   ]
  },
  {
   "cell_type": "code",
   "execution_count": 1,
   "id": "1fa6f472",
   "metadata": {},
   "outputs": [],
   "source": [
    "import pandas as pd\n",
    "import numpy as np\n",
    "import seaborn as sns\n",
    "import matplotlib.pyplot as plt\n",
    "import random\n",
    "import datetime\n",
    "import warnings\n",
    "warnings.filterwarnings('ignore')"
   ]
  },
  {
   "cell_type": "markdown",
   "id": "9cd408b5",
   "metadata": {},
   "source": [
    "<font size=\"10\" color='Orange'>Data Inspection</font>"
   ]
  },
  {
   "cell_type": "code",
   "execution_count": 2,
   "id": "57467bf3",
   "metadata": {},
   "outputs": [
    {
     "data": {
      "text/html": [
       "<div>\n",
       "<style scoped>\n",
       "    .dataframe tbody tr th:only-of-type {\n",
       "        vertical-align: middle;\n",
       "    }\n",
       "\n",
       "    .dataframe tbody tr th {\n",
       "        vertical-align: top;\n",
       "    }\n",
       "\n",
       "    .dataframe thead th {\n",
       "        text-align: right;\n",
       "    }\n",
       "</style>\n",
       "<table border=\"1\" class=\"dataframe\">\n",
       "  <thead>\n",
       "    <tr style=\"text-align: right;\">\n",
       "      <th></th>\n",
       "      <th>sr_no</th>\n",
       "      <th>date</th>\n",
       "      <th>target_home_price</th>\n",
       "      <th>population</th>\n",
       "      <th>monthly_supply_houses</th>\n",
       "      <th>new_permits_thousands</th>\n",
       "      <th>mortgage_rate</th>\n",
       "      <th>gdp_monthly</th>\n",
       "      <th>hcai</th>\n",
       "      <th>employment_percentage</th>\n",
       "      <th>ppi_const_goods</th>\n",
       "      <th>cci_real_estate</th>\n",
       "      <th>deliquency_rate</th>\n",
       "      <th>m3_trillion</th>\n",
       "    </tr>\n",
       "  </thead>\n",
       "  <tbody>\n",
       "    <tr>\n",
       "      <th>0</th>\n",
       "      <td>1</td>\n",
       "      <td>1/1/2000</td>\n",
       "      <td>100.552</td>\n",
       "      <td>281083</td>\n",
       "      <td>4.3</td>\n",
       "      <td>1727</td>\n",
       "      <td>8.15</td>\n",
       "      <td>101.488</td>\n",
       "      <td>17.087</td>\n",
       "      <td>74.248</td>\n",
       "      <td>142.4</td>\n",
       "      <td>103.091</td>\n",
       "      <td>1.48</td>\n",
       "      <td>4.6669</td>\n",
       "    </tr>\n",
       "    <tr>\n",
       "      <th>1</th>\n",
       "      <td>2</td>\n",
       "      <td>1/2/2000</td>\n",
       "      <td>101.339</td>\n",
       "      <td>281299</td>\n",
       "      <td>4.3</td>\n",
       "      <td>1692</td>\n",
       "      <td>8.25</td>\n",
       "      <td>101.547</td>\n",
       "      <td>17.087</td>\n",
       "      <td>74.270</td>\n",
       "      <td>142.7</td>\n",
       "      <td>103.151</td>\n",
       "      <td>1.48</td>\n",
       "      <td>4.6801</td>\n",
       "    </tr>\n",
       "    <tr>\n",
       "      <th>2</th>\n",
       "      <td>3</td>\n",
       "      <td>1/3/2000</td>\n",
       "      <td>102.127</td>\n",
       "      <td>281531</td>\n",
       "      <td>4.3</td>\n",
       "      <td>1651</td>\n",
       "      <td>8.27</td>\n",
       "      <td>101.620</td>\n",
       "      <td>17.087</td>\n",
       "      <td>74.227</td>\n",
       "      <td>143.2</td>\n",
       "      <td>103.059</td>\n",
       "      <td>1.48</td>\n",
       "      <td>4.7108</td>\n",
       "    </tr>\n",
       "    <tr>\n",
       "      <th>3</th>\n",
       "      <td>4</td>\n",
       "      <td>1/4/2000</td>\n",
       "      <td>102.922</td>\n",
       "      <td>281763</td>\n",
       "      <td>4.4</td>\n",
       "      <td>1597</td>\n",
       "      <td>8.23</td>\n",
       "      <td>101.690</td>\n",
       "      <td>16.594</td>\n",
       "      <td>74.505</td>\n",
       "      <td>143.2</td>\n",
       "      <td>103.038</td>\n",
       "      <td>1.44</td>\n",
       "      <td>4.7668</td>\n",
       "    </tr>\n",
       "    <tr>\n",
       "      <th>4</th>\n",
       "      <td>5</td>\n",
       "      <td>1/5/2000</td>\n",
       "      <td>103.677</td>\n",
       "      <td>281996</td>\n",
       "      <td>4.4</td>\n",
       "      <td>1543</td>\n",
       "      <td>8.13</td>\n",
       "      <td>101.731</td>\n",
       "      <td>16.594</td>\n",
       "      <td>74.089</td>\n",
       "      <td>142.2</td>\n",
       "      <td>103.009</td>\n",
       "      <td>1.44</td>\n",
       "      <td>4.7546</td>\n",
       "    </tr>\n",
       "  </tbody>\n",
       "</table>\n",
       "</div>"
      ],
      "text/plain": [
       "   sr_no      date  target_home_price  population  monthly_supply_houses  \\\n",
       "0      1  1/1/2000            100.552      281083                    4.3   \n",
       "1      2  1/2/2000            101.339      281299                    4.3   \n",
       "2      3  1/3/2000            102.127      281531                    4.3   \n",
       "3      4  1/4/2000            102.922      281763                    4.4   \n",
       "4      5  1/5/2000            103.677      281996                    4.4   \n",
       "\n",
       "   new_permits_thousands  mortgage_rate  gdp_monthly    hcai  \\\n",
       "0                   1727           8.15      101.488  17.087   \n",
       "1                   1692           8.25      101.547  17.087   \n",
       "2                   1651           8.27      101.620  17.087   \n",
       "3                   1597           8.23      101.690  16.594   \n",
       "4                   1543           8.13      101.731  16.594   \n",
       "\n",
       "   employment_percentage  ppi_const_goods  cci_real_estate  deliquency_rate  \\\n",
       "0                 74.248            142.4          103.091             1.48   \n",
       "1                 74.270            142.7          103.151             1.48   \n",
       "2                 74.227            143.2          103.059             1.48   \n",
       "3                 74.505            143.2          103.038             1.44   \n",
       "4                 74.089            142.2          103.009             1.44   \n",
       "\n",
       "   m3_trillion  \n",
       "0       4.6669  \n",
       "1       4.6801  \n",
       "2       4.7108  \n",
       "3       4.7668  \n",
       "4       4.7546  "
      ]
     },
     "execution_count": 2,
     "metadata": {},
     "output_type": "execute_result"
    }
   ],
   "source": [
    "# Loading House pricing dataset\n",
    "df = pd.read_csv(\"dataset.csv\")\n",
    "df.head()"
   ]
  },
  {
   "cell_type": "code",
   "execution_count": 3,
   "id": "e9b83d78",
   "metadata": {},
   "outputs": [
    {
     "name": "stdout",
     "output_type": "stream",
     "text": [
      "<class 'pandas.core.frame.DataFrame'>\n",
      "RangeIndex: 253 entries, 0 to 252\n",
      "Data columns (total 14 columns):\n",
      " #   Column                 Non-Null Count  Dtype  \n",
      "---  ------                 --------------  -----  \n",
      " 0   sr_no                  253 non-null    int64  \n",
      " 1   date                   253 non-null    object \n",
      " 2   target_home_price      253 non-null    float64\n",
      " 3   population             253 non-null    int64  \n",
      " 4   monthly_supply_houses  253 non-null    float64\n",
      " 5   new_permits_thousands  253 non-null    int64  \n",
      " 6   mortgage_rate          253 non-null    float64\n",
      " 7   gdp_monthly            253 non-null    float64\n",
      " 8   hcai                   253 non-null    float64\n",
      " 9   employment_percentage  253 non-null    float64\n",
      " 10  ppi_const_goods        253 non-null    float64\n",
      " 11  cci_real_estate        253 non-null    float64\n",
      " 12  deliquency_rate        253 non-null    float64\n",
      " 13  m3_trillion            253 non-null    float64\n",
      "dtypes: float64(10), int64(3), object(1)\n",
      "memory usage: 27.8+ KB\n"
     ]
    }
   ],
   "source": [
    "# Column name along with Null values and Data type\n",
    "df.info()"
   ]
  },
  {
   "cell_type": "code",
   "execution_count": 4,
   "id": "7d2bf6d2",
   "metadata": {},
   "outputs": [
    {
     "data": {
      "text/html": [
       "<div>\n",
       "<style scoped>\n",
       "    .dataframe tbody tr th:only-of-type {\n",
       "        vertical-align: middle;\n",
       "    }\n",
       "\n",
       "    .dataframe tbody tr th {\n",
       "        vertical-align: top;\n",
       "    }\n",
       "\n",
       "    .dataframe thead th {\n",
       "        text-align: right;\n",
       "    }\n",
       "</style>\n",
       "<table border=\"1\" class=\"dataframe\">\n",
       "  <thead>\n",
       "    <tr style=\"text-align: right;\">\n",
       "      <th></th>\n",
       "      <th>count</th>\n",
       "      <th>mean</th>\n",
       "      <th>std</th>\n",
       "      <th>min</th>\n",
       "      <th>25%</th>\n",
       "      <th>50%</th>\n",
       "      <th>75%</th>\n",
       "      <th>max</th>\n",
       "    </tr>\n",
       "  </thead>\n",
       "  <tbody>\n",
       "    <tr>\n",
       "      <th>sr_no</th>\n",
       "      <td>253.0</td>\n",
       "      <td>127.000000</td>\n",
       "      <td>73.179004</td>\n",
       "      <td>1.0000</td>\n",
       "      <td>64.0000</td>\n",
       "      <td>127.0000</td>\n",
       "      <td>190.0000</td>\n",
       "      <td>253.0000</td>\n",
       "    </tr>\n",
       "    <tr>\n",
       "      <th>target_home_price</th>\n",
       "      <td>253.0</td>\n",
       "      <td>161.977692</td>\n",
       "      <td>30.992113</td>\n",
       "      <td>100.5520</td>\n",
       "      <td>140.3580</td>\n",
       "      <td>161.9910</td>\n",
       "      <td>183.0680</td>\n",
       "      <td>238.5300</td>\n",
       "    </tr>\n",
       "    <tr>\n",
       "      <th>population</th>\n",
       "      <td>253.0</td>\n",
       "      <td>308360.885375</td>\n",
       "      <td>14854.486233</td>\n",
       "      <td>281083.0000</td>\n",
       "      <td>295359.0000</td>\n",
       "      <td>309847.0000</td>\n",
       "      <td>321641.0000</td>\n",
       "      <td>330968.0000</td>\n",
       "    </tr>\n",
       "    <tr>\n",
       "      <th>monthly_supply_houses</th>\n",
       "      <td>253.0</td>\n",
       "      <td>5.759289</td>\n",
       "      <td>1.917019</td>\n",
       "      <td>3.5000</td>\n",
       "      <td>4.3000</td>\n",
       "      <td>5.3000</td>\n",
       "      <td>6.6000</td>\n",
       "      <td>12.2000</td>\n",
       "    </tr>\n",
       "    <tr>\n",
       "      <th>new_permits_thousands</th>\n",
       "      <td>253.0</td>\n",
       "      <td>1324.134387</td>\n",
       "      <td>470.409385</td>\n",
       "      <td>513.0000</td>\n",
       "      <td>1003.0000</td>\n",
       "      <td>1302.0000</td>\n",
       "      <td>1665.0000</td>\n",
       "      <td>2263.0000</td>\n",
       "    </tr>\n",
       "    <tr>\n",
       "      <th>mortgage_rate</th>\n",
       "      <td>253.0</td>\n",
       "      <td>5.241976</td>\n",
       "      <td>1.277572</td>\n",
       "      <td>3.3100</td>\n",
       "      <td>4.1000</td>\n",
       "      <td>5.0300</td>\n",
       "      <td>6.2200</td>\n",
       "      <td>8.6200</td>\n",
       "    </tr>\n",
       "    <tr>\n",
       "      <th>gdp_monthly</th>\n",
       "      <td>253.0</td>\n",
       "      <td>99.847209</td>\n",
       "      <td>1.437940</td>\n",
       "      <td>90.8340</td>\n",
       "      <td>99.6140</td>\n",
       "      <td>100.0120</td>\n",
       "      <td>100.5350</td>\n",
       "      <td>101.8140</td>\n",
       "    </tr>\n",
       "    <tr>\n",
       "      <th>hcai</th>\n",
       "      <td>253.0</td>\n",
       "      <td>8.829372</td>\n",
       "      <td>7.061953</td>\n",
       "      <td>2.2930</td>\n",
       "      <td>2.6140</td>\n",
       "      <td>5.1990</td>\n",
       "      <td>16.0480</td>\n",
       "      <td>21.7740</td>\n",
       "    </tr>\n",
       "    <tr>\n",
       "      <th>employment_percentage</th>\n",
       "      <td>253.0</td>\n",
       "      <td>69.917617</td>\n",
       "      <td>2.358979</td>\n",
       "      <td>60.2900</td>\n",
       "      <td>67.8120</td>\n",
       "      <td>70.5810</td>\n",
       "      <td>71.6700</td>\n",
       "      <td>74.5050</td>\n",
       "    </tr>\n",
       "    <tr>\n",
       "      <th>ppi_const_goods</th>\n",
       "      <td>253.0</td>\n",
       "      <td>188.081423</td>\n",
       "      <td>30.054525</td>\n",
       "      <td>140.1000</td>\n",
       "      <td>160.7000</td>\n",
       "      <td>192.2000</td>\n",
       "      <td>211.6000</td>\n",
       "      <td>240.6000</td>\n",
       "    </tr>\n",
       "    <tr>\n",
       "      <th>cci_real_estate</th>\n",
       "      <td>253.0</td>\n",
       "      <td>99.838901</td>\n",
       "      <td>1.596926</td>\n",
       "      <td>96.1600</td>\n",
       "      <td>98.6270</td>\n",
       "      <td>100.1760</td>\n",
       "      <td>101.0390</td>\n",
       "      <td>103.1510</td>\n",
       "    </tr>\n",
       "    <tr>\n",
       "      <th>deliquency_rate</th>\n",
       "      <td>253.0</td>\n",
       "      <td>2.592292</td>\n",
       "      <td>2.406876</td>\n",
       "      <td>0.6800</td>\n",
       "      <td>1.0200</td>\n",
       "      <td>1.5100</td>\n",
       "      <td>3.2800</td>\n",
       "      <td>8.9200</td>\n",
       "    </tr>\n",
       "    <tr>\n",
       "      <th>m3_trillion</th>\n",
       "      <td>253.0</td>\n",
       "      <td>9.560492</td>\n",
       "      <td>3.594104</td>\n",
       "      <td>4.6669</td>\n",
       "      <td>6.4557</td>\n",
       "      <td>8.6194</td>\n",
       "      <td>12.1965</td>\n",
       "      <td>19.3965</td>\n",
       "    </tr>\n",
       "  </tbody>\n",
       "</table>\n",
       "</div>"
      ],
      "text/plain": [
       "                       count           mean           std          min  \\\n",
       "sr_no                  253.0     127.000000     73.179004       1.0000   \n",
       "target_home_price      253.0     161.977692     30.992113     100.5520   \n",
       "population             253.0  308360.885375  14854.486233  281083.0000   \n",
       "monthly_supply_houses  253.0       5.759289      1.917019       3.5000   \n",
       "new_permits_thousands  253.0    1324.134387    470.409385     513.0000   \n",
       "mortgage_rate          253.0       5.241976      1.277572       3.3100   \n",
       "gdp_monthly            253.0      99.847209      1.437940      90.8340   \n",
       "hcai                   253.0       8.829372      7.061953       2.2930   \n",
       "employment_percentage  253.0      69.917617      2.358979      60.2900   \n",
       "ppi_const_goods        253.0     188.081423     30.054525     140.1000   \n",
       "cci_real_estate        253.0      99.838901      1.596926      96.1600   \n",
       "deliquency_rate        253.0       2.592292      2.406876       0.6800   \n",
       "m3_trillion            253.0       9.560492      3.594104       4.6669   \n",
       "\n",
       "                               25%          50%          75%          max  \n",
       "sr_no                      64.0000     127.0000     190.0000     253.0000  \n",
       "target_home_price         140.3580     161.9910     183.0680     238.5300  \n",
       "population             295359.0000  309847.0000  321641.0000  330968.0000  \n",
       "monthly_supply_houses       4.3000       5.3000       6.6000      12.2000  \n",
       "new_permits_thousands    1003.0000    1302.0000    1665.0000    2263.0000  \n",
       "mortgage_rate               4.1000       5.0300       6.2200       8.6200  \n",
       "gdp_monthly                99.6140     100.0120     100.5350     101.8140  \n",
       "hcai                        2.6140       5.1990      16.0480      21.7740  \n",
       "employment_percentage      67.8120      70.5810      71.6700      74.5050  \n",
       "ppi_const_goods           160.7000     192.2000     211.6000     240.6000  \n",
       "cci_real_estate            98.6270     100.1760     101.0390     103.1510  \n",
       "deliquency_rate             1.0200       1.5100       3.2800       8.9200  \n",
       "m3_trillion                 6.4557       8.6194      12.1965      19.3965  "
      ]
     },
     "execution_count": 4,
     "metadata": {},
     "output_type": "execute_result"
    }
   ],
   "source": [
    "df.describe().T"
   ]
  },
  {
   "cell_type": "code",
   "execution_count": 5,
   "id": "908d8e47",
   "metadata": {
    "scrolled": true
   },
   "outputs": [
    {
     "data": {
      "text/html": [
       "<div>\n",
       "<style scoped>\n",
       "    .dataframe tbody tr th:only-of-type {\n",
       "        vertical-align: middle;\n",
       "    }\n",
       "\n",
       "    .dataframe tbody tr th {\n",
       "        vertical-align: top;\n",
       "    }\n",
       "\n",
       "    .dataframe thead th {\n",
       "        text-align: right;\n",
       "    }\n",
       "</style>\n",
       "<table border=\"1\" class=\"dataframe\">\n",
       "  <thead>\n",
       "    <tr style=\"text-align: right;\">\n",
       "      <th></th>\n",
       "      <th>sr_no</th>\n",
       "      <th>date</th>\n",
       "      <th>target_home_price</th>\n",
       "      <th>population</th>\n",
       "      <th>monthly_supply_houses</th>\n",
       "      <th>new_permits_thousands</th>\n",
       "      <th>mortgage_rate</th>\n",
       "      <th>gdp_monthly</th>\n",
       "      <th>hcai</th>\n",
       "      <th>employment_percentage</th>\n",
       "      <th>ppi_const_goods</th>\n",
       "      <th>cci_real_estate</th>\n",
       "      <th>deliquency_rate</th>\n",
       "      <th>m3_trillion</th>\n",
       "    </tr>\n",
       "  </thead>\n",
       "  <tbody>\n",
       "    <tr>\n",
       "      <th>0</th>\n",
       "      <td>1</td>\n",
       "      <td>2000</td>\n",
       "      <td>100.552</td>\n",
       "      <td>281083</td>\n",
       "      <td>4.3</td>\n",
       "      <td>1727</td>\n",
       "      <td>8.15</td>\n",
       "      <td>101.488</td>\n",
       "      <td>17.087</td>\n",
       "      <td>74.248</td>\n",
       "      <td>142.4</td>\n",
       "      <td>103.091</td>\n",
       "      <td>1.48</td>\n",
       "      <td>4.6669</td>\n",
       "    </tr>\n",
       "    <tr>\n",
       "      <th>1</th>\n",
       "      <td>2</td>\n",
       "      <td>2000</td>\n",
       "      <td>101.339</td>\n",
       "      <td>281299</td>\n",
       "      <td>4.3</td>\n",
       "      <td>1692</td>\n",
       "      <td>8.25</td>\n",
       "      <td>101.547</td>\n",
       "      <td>17.087</td>\n",
       "      <td>74.270</td>\n",
       "      <td>142.7</td>\n",
       "      <td>103.151</td>\n",
       "      <td>1.48</td>\n",
       "      <td>4.6801</td>\n",
       "    </tr>\n",
       "  </tbody>\n",
       "</table>\n",
       "</div>"
      ],
      "text/plain": [
       "   sr_no  date  target_home_price  population  monthly_supply_houses  \\\n",
       "0      1  2000            100.552      281083                    4.3   \n",
       "1      2  2000            101.339      281299                    4.3   \n",
       "\n",
       "   new_permits_thousands  mortgage_rate  gdp_monthly    hcai  \\\n",
       "0                   1727           8.15      101.488  17.087   \n",
       "1                   1692           8.25      101.547  17.087   \n",
       "\n",
       "   employment_percentage  ppi_const_goods  cci_real_estate  deliquency_rate  \\\n",
       "0                 74.248            142.4          103.091             1.48   \n",
       "1                 74.270            142.7          103.151             1.48   \n",
       "\n",
       "   m3_trillion  \n",
       "0       4.6669  \n",
       "1       4.6801  "
      ]
     },
     "execution_count": 5,
     "metadata": {},
     "output_type": "execute_result"
    }
   ],
   "source": [
    "df[\"date\"] = pd.to_datetime(df[\"date\"])\n",
    "df[\"date\"] = df[\"date\"].dt.year\n",
    "df.head(2)"
   ]
  },
  {
   "cell_type": "code",
   "execution_count": 6,
   "id": "d71398a8",
   "metadata": {},
   "outputs": [
    {
     "data": {
      "text/html": [
       "<div>\n",
       "<style scoped>\n",
       "    .dataframe tbody tr th:only-of-type {\n",
       "        vertical-align: middle;\n",
       "    }\n",
       "\n",
       "    .dataframe tbody tr th {\n",
       "        vertical-align: top;\n",
       "    }\n",
       "\n",
       "    .dataframe thead th {\n",
       "        text-align: right;\n",
       "    }\n",
       "</style>\n",
       "<table border=\"1\" class=\"dataframe\">\n",
       "  <thead>\n",
       "    <tr style=\"text-align: right;\">\n",
       "      <th></th>\n",
       "      <th>sr_no</th>\n",
       "      <th>Year</th>\n",
       "      <th>target_home_price</th>\n",
       "      <th>population</th>\n",
       "      <th>monthly_supply_houses</th>\n",
       "      <th>new_permits_thousands</th>\n",
       "      <th>mortgage_rate</th>\n",
       "      <th>gdp_monthly</th>\n",
       "      <th>hcai</th>\n",
       "      <th>employment_percentage</th>\n",
       "      <th>ppi_const_goods</th>\n",
       "      <th>cci_real_estate</th>\n",
       "      <th>deliquency_rate</th>\n",
       "      <th>m3_trillion</th>\n",
       "    </tr>\n",
       "  </thead>\n",
       "  <tbody>\n",
       "    <tr>\n",
       "      <th>0</th>\n",
       "      <td>1</td>\n",
       "      <td>2000</td>\n",
       "      <td>100.552</td>\n",
       "      <td>281083</td>\n",
       "      <td>4.3</td>\n",
       "      <td>1727</td>\n",
       "      <td>8.15</td>\n",
       "      <td>101.488</td>\n",
       "      <td>17.087</td>\n",
       "      <td>74.248</td>\n",
       "      <td>142.4</td>\n",
       "      <td>103.091</td>\n",
       "      <td>1.48</td>\n",
       "      <td>4.6669</td>\n",
       "    </tr>\n",
       "    <tr>\n",
       "      <th>1</th>\n",
       "      <td>2</td>\n",
       "      <td>2000</td>\n",
       "      <td>101.339</td>\n",
       "      <td>281299</td>\n",
       "      <td>4.3</td>\n",
       "      <td>1692</td>\n",
       "      <td>8.25</td>\n",
       "      <td>101.547</td>\n",
       "      <td>17.087</td>\n",
       "      <td>74.270</td>\n",
       "      <td>142.7</td>\n",
       "      <td>103.151</td>\n",
       "      <td>1.48</td>\n",
       "      <td>4.6801</td>\n",
       "    </tr>\n",
       "  </tbody>\n",
       "</table>\n",
       "</div>"
      ],
      "text/plain": [
       "   sr_no  Year  target_home_price  population  monthly_supply_houses  \\\n",
       "0      1  2000            100.552      281083                    4.3   \n",
       "1      2  2000            101.339      281299                    4.3   \n",
       "\n",
       "   new_permits_thousands  mortgage_rate  gdp_monthly    hcai  \\\n",
       "0                   1727           8.15      101.488  17.087   \n",
       "1                   1692           8.25      101.547  17.087   \n",
       "\n",
       "   employment_percentage  ppi_const_goods  cci_real_estate  deliquency_rate  \\\n",
       "0                 74.248            142.4          103.091             1.48   \n",
       "1                 74.270            142.7          103.151             1.48   \n",
       "\n",
       "   m3_trillion  \n",
       "0       4.6669  \n",
       "1       4.6801  "
      ]
     },
     "execution_count": 6,
     "metadata": {},
     "output_type": "execute_result"
    }
   ],
   "source": [
    "df.rename(columns = {'date':'Year'}, inplace = True)\n",
    "df.head(2)"
   ]
  },
  {
   "cell_type": "markdown",
   "id": "8a917084",
   "metadata": {},
   "source": [
    "<font size=\"15\" color='Green'>Exploratory Data Analysis</font>"
   ]
  },
  {
   "cell_type": "code",
   "execution_count": 7,
   "id": "7126ba88",
   "metadata": {
    "scrolled": false
   },
   "outputs": [
    {
     "data": {
      "text/plain": [
       "Text(0.5, 1.0, 'Home Price Yearly wise')"
      ]
     },
     "execution_count": 7,
     "metadata": {},
     "output_type": "execute_result"
    },
    {
     "data": {
      "image/png": "[encoded data removed]",
      "text/plain": [
       "<Figure size 1080x432 with 1 Axes>"
      ]
     },
     "metadata": {
      "needs_background": "light"
     },
     "output_type": "display_data"
    }
   ],
   "source": [
    "plt.figure(figsize = (15,6))\n",
    "sns.lineplot(data=df,x=\"Year\",y=\"target_home_price\")\n",
    "plt.title(\"Home Price Yearly wise\", color=\"Teal\", fontsize=20)"
   ]
  },
  {
   "cell_type": "markdown",
   "id": "2f0e0aa8",
   "metadata": {},
   "source": [
    "### In the above graph we can see that prices were increasing continuously till 2007-2008 then we saw a skew for few year and after 2012 it is increasing continuously."
   ]
  },
  {
   "cell_type": "code",
   "execution_count": 8,
   "id": "04d0a260",
   "metadata": {},
   "outputs": [
    {
     "data": {
      "text/plain": [
       "Text(0.5, 1.0, 'Relation Between Economy and Home price')"
      ]
     },
     "execution_count": 8,
     "metadata": {},
     "output_type": "execute_result"
    },
    {
     "data": {
      "image/png": "[encoded data removed]",
      "text/plain": [
       "<Figure size 1080x432 with 1 Axes>"
      ]
     },
     "metadata": {
      "needs_background": "light"
     },
     "output_type": "display_data"
    }
   ],
   "source": [
    "plt.figure(figsize = (15,6))\n",
    "sns.scatterplot(data=df,x=\"m3_trillion\",y=\"target_home_price\",hue=\"Year\")\n",
    "plt.title(\"Relation Between Economy and Home price\", color=\"Teal\", fontsize=20)"
   ]
  },
  {
   "cell_type": "markdown",
   "id": "4fc7acce",
   "metadata": {},
   "source": [
    "### Ecomomy has the direct relation with the home price. When the economy is going strong and unemployment goes down, housing prices tend to rise.\n",
    "\n",
    "."
   ]
  },
  {
   "cell_type": "code",
   "execution_count": 9,
   "id": "ddc52cda",
   "metadata": {},
   "outputs": [
    {
     "data": {
      "text/plain": [
       "Text(0.5, 1.0, 'Monthly supply of houses and Price')"
      ]
     },
     "execution_count": 9,
     "metadata": {},
     "output_type": "execute_result"
    },
    {
     "data": {
      "image/png": "[encoded data removed]",
      "text/plain": [
       "<Figure size 1080x432 with 1 Axes>"
      ]
     },
     "metadata": {
      "needs_background": "light"
     },
     "output_type": "display_data"
    }
   ],
   "source": [
    "plt.figure(figsize = (15,6))\n",
    "sns.lineplot(data=df,x=\"Year\", y=\"monthly_supply_houses\", color=\"Teal\")\n",
    "sns.lineplot(data=df,x=\"Year\", y=\"target_home_price\", color= \"Orange\")\n",
    "plt.title(\"Monthly supply of houses and Price\", color=\"Teal\", fontsize=20)"
   ]
  },
  {
   "cell_type": "markdown",
   "id": "27bb7335",
   "metadata": {},
   "source": [
    "### We do not have any feature as demand feature still we can calculate that demand is higher than the supply as the Teal color line which is supply line is not moving upward and price line is going up continuously going up.\n",
    "\n",
    "\n",
    "."
   ]
  },
  {
   "cell_type": "code",
   "execution_count": 10,
   "id": "c24f07d3",
   "metadata": {},
   "outputs": [
    {
     "data": {
      "text/plain": [
       "Text(0.5, 1.0, 'Relation Between HCAI and Home Price')"
      ]
     },
     "execution_count": 10,
     "metadata": {},
     "output_type": "execute_result"
    },
    {
     "data": {
      "image/png": "[encoded data removed]",
      "text/plain": [
       "<Figure size 1080x432 with 1 Axes>"
      ]
     },
     "metadata": {
      "needs_background": "light"
     },
     "output_type": "display_data"
    }
   ],
   "source": [
    "plt.figure(figsize = (15,6))\n",
    "sns.scatterplot(data=df,x=\"hcai\",y=\"target_home_price\",hue=\"Year\")\n",
    "plt.title(\"Relation Between HCAI and Home Price\", color=\"Teal\", fontsize=20)"
   ]
  },
  {
   "cell_type": "code",
   "execution_count": 11,
   "id": "a51ff586",
   "metadata": {},
   "outputs": [
    {
     "data": {
      "text/plain": [
       "<AxesSubplot:>"
      ]
     },
     "execution_count": 11,
     "metadata": {},
     "output_type": "execute_result"
    },
    {
     "data": {
      "image/png": "[encoded data removed]",
      "text/plain": [
       "<Figure size 864x504 with 2 Axes>"
      ]
     },
     "metadata": {
      "needs_background": "light"
     },
     "output_type": "display_data"
    }
   ],
   "source": [
    "plt.figure(figsize =(12,7))\n",
    "sns.heatmap(df.corr())"
   ]
  },
  {
   "cell_type": "markdown",
   "id": "737b0b75",
   "metadata": {},
   "source": [
    "<font size=\"10\" color='Teal'>Feature Scaling - Normalization</font>"
   ]
  },
  {
   "cell_type": "code",
   "execution_count": 12,
   "id": "d284b594",
   "metadata": {},
   "outputs": [],
   "source": [
    "data = df.drop(columns=[\"sr_no\",\"Year\"],axis=1)"
   ]
  },
  {
   "cell_type": "code",
   "execution_count": 13,
   "id": "96e5718d",
   "metadata": {},
   "outputs": [
    {
     "data": {
      "text/html": [
       "<div>\n",
       "<style scoped>\n",
       "    .dataframe tbody tr th:only-of-type {\n",
       "        vertical-align: middle;\n",
       "    }\n",
       "\n",
       "    .dataframe tbody tr th {\n",
       "        vertical-align: top;\n",
       "    }\n",
       "\n",
       "    .dataframe thead th {\n",
       "        text-align: right;\n",
       "    }\n",
       "</style>\n",
       "<table border=\"1\" class=\"dataframe\">\n",
       "  <thead>\n",
       "    <tr style=\"text-align: right;\">\n",
       "      <th></th>\n",
       "      <th>target_home_price</th>\n",
       "      <th>population</th>\n",
       "      <th>monthly_supply_houses</th>\n",
       "      <th>new_permits_thousands</th>\n",
       "      <th>mortgage_rate</th>\n",
       "      <th>gdp_monthly</th>\n",
       "      <th>hcai</th>\n",
       "      <th>employment_percentage</th>\n",
       "      <th>ppi_const_goods</th>\n",
       "      <th>cci_real_estate</th>\n",
       "      <th>deliquency_rate</th>\n",
       "      <th>m3_trillion</th>\n",
       "    </tr>\n",
       "  </thead>\n",
       "  <tbody>\n",
       "    <tr>\n",
       "      <th>0</th>\n",
       "      <td>0.000000</td>\n",
       "      <td>0.000000</td>\n",
       "      <td>0.091954</td>\n",
       "      <td>0.693714</td>\n",
       "      <td>0.911488</td>\n",
       "      <td>0.970310</td>\n",
       "      <td>0.759407</td>\n",
       "      <td>0.981921</td>\n",
       "      <td>0.022886</td>\n",
       "      <td>0.991418</td>\n",
       "      <td>0.097087</td>\n",
       "      <td>0.000000</td>\n",
       "    </tr>\n",
       "    <tr>\n",
       "      <th>1</th>\n",
       "      <td>0.005704</td>\n",
       "      <td>0.004330</td>\n",
       "      <td>0.091954</td>\n",
       "      <td>0.673714</td>\n",
       "      <td>0.930320</td>\n",
       "      <td>0.975683</td>\n",
       "      <td>0.759407</td>\n",
       "      <td>0.983468</td>\n",
       "      <td>0.025871</td>\n",
       "      <td>1.000000</td>\n",
       "      <td>0.097087</td>\n",
       "      <td>0.000896</td>\n",
       "    </tr>\n",
       "    <tr>\n",
       "      <th>2</th>\n",
       "      <td>0.011415</td>\n",
       "      <td>0.008981</td>\n",
       "      <td>0.091954</td>\n",
       "      <td>0.650286</td>\n",
       "      <td>0.934087</td>\n",
       "      <td>0.982332</td>\n",
       "      <td>0.759407</td>\n",
       "      <td>0.980443</td>\n",
       "      <td>0.030846</td>\n",
       "      <td>0.986840</td>\n",
       "      <td>0.097087</td>\n",
       "      <td>0.002980</td>\n",
       "    </tr>\n",
       "    <tr>\n",
       "      <th>3</th>\n",
       "      <td>0.017177</td>\n",
       "      <td>0.013631</td>\n",
       "      <td>0.103448</td>\n",
       "      <td>0.619429</td>\n",
       "      <td>0.926554</td>\n",
       "      <td>0.988707</td>\n",
       "      <td>0.734100</td>\n",
       "      <td>1.000000</td>\n",
       "      <td>0.030846</td>\n",
       "      <td>0.983836</td>\n",
       "      <td>0.092233</td>\n",
       "      <td>0.006782</td>\n",
       "    </tr>\n",
       "    <tr>\n",
       "      <th>4</th>\n",
       "      <td>0.022649</td>\n",
       "      <td>0.018302</td>\n",
       "      <td>0.103448</td>\n",
       "      <td>0.588571</td>\n",
       "      <td>0.907721</td>\n",
       "      <td>0.992441</td>\n",
       "      <td>0.734100</td>\n",
       "      <td>0.970735</td>\n",
       "      <td>0.020896</td>\n",
       "      <td>0.979688</td>\n",
       "      <td>0.092233</td>\n",
       "      <td>0.005954</td>\n",
       "    </tr>\n",
       "    <tr>\n",
       "      <th>...</th>\n",
       "      <td>...</td>\n",
       "      <td>...</td>\n",
       "      <td>...</td>\n",
       "      <td>...</td>\n",
       "      <td>...</td>\n",
       "      <td>...</td>\n",
       "      <td>...</td>\n",
       "      <td>...</td>\n",
       "      <td>...</td>\n",
       "      <td>...</td>\n",
       "      <td>...</td>\n",
       "      <td>...</td>\n",
       "    </tr>\n",
       "    <tr>\n",
       "      <th>248</th>\n",
       "      <td>0.908855</td>\n",
       "      <td>0.991320</td>\n",
       "      <td>0.000000</td>\n",
       "      <td>0.614857</td>\n",
       "      <td>0.214689</td>\n",
       "      <td>0.465847</td>\n",
       "      <td>0.020276</td>\n",
       "      <td>0.469152</td>\n",
       "      <td>0.913433</td>\n",
       "      <td>0.387212</td>\n",
       "      <td>0.038835</td>\n",
       "      <td>0.946265</td>\n",
       "    </tr>\n",
       "    <tr>\n",
       "      <th>249</th>\n",
       "      <td>0.934134</td>\n",
       "      <td>0.994467</td>\n",
       "      <td>0.000000</td>\n",
       "      <td>0.618286</td>\n",
       "      <td>0.207156</td>\n",
       "      <td>0.477869</td>\n",
       "      <td>0.023151</td>\n",
       "      <td>0.530918</td>\n",
       "      <td>0.912438</td>\n",
       "      <td>0.411100</td>\n",
       "      <td>0.054612</td>\n",
       "      <td>0.956183</td>\n",
       "    </tr>\n",
       "    <tr>\n",
       "      <th>250</th>\n",
       "      <td>0.957428</td>\n",
       "      <td>0.997214</td>\n",
       "      <td>0.057471</td>\n",
       "      <td>0.676000</td>\n",
       "      <td>0.207156</td>\n",
       "      <td>0.489617</td>\n",
       "      <td>0.023151</td>\n",
       "      <td>0.533873</td>\n",
       "      <td>0.901493</td>\n",
       "      <td>0.404234</td>\n",
       "      <td>0.054612</td>\n",
       "      <td>0.970379</td>\n",
       "    </tr>\n",
       "    <tr>\n",
       "      <th>251</th>\n",
       "      <td>0.978642</td>\n",
       "      <td>0.999118</td>\n",
       "      <td>0.034483</td>\n",
       "      <td>0.711429</td>\n",
       "      <td>0.145009</td>\n",
       "      <td>0.511566</td>\n",
       "      <td>0.023151</td>\n",
       "      <td>0.544144</td>\n",
       "      <td>0.937313</td>\n",
       "      <td>0.404663</td>\n",
       "      <td>0.054612</td>\n",
       "      <td>0.982002</td>\n",
       "    </tr>\n",
       "    <tr>\n",
       "      <th>252</th>\n",
       "      <td>1.000000</td>\n",
       "      <td>1.000000</td>\n",
       "      <td>0.011494</td>\n",
       "      <td>0.782857</td>\n",
       "      <td>0.156309</td>\n",
       "      <td>0.533515</td>\n",
       "      <td>0.026025</td>\n",
       "      <td>0.556595</td>\n",
       "      <td>1.000000</td>\n",
       "      <td>0.405378</td>\n",
       "      <td>0.040049</td>\n",
       "      <td>1.000000</td>\n",
       "    </tr>\n",
       "  </tbody>\n",
       "</table>\n",
       "<p>253 rows × 12 columns</p>\n",
       "</div>"
      ],
      "text/plain": [
       "     target_home_price  population  monthly_supply_houses  \\\n",
       "0             0.000000    0.000000               0.091954   \n",
       "1             0.005704    0.004330               0.091954   \n",
       "2             0.011415    0.008981               0.091954   \n",
       "3             0.017177    0.013631               0.103448   \n",
       "4             0.022649    0.018302               0.103448   \n",
       "..                 ...         ...                    ...   \n",
       "248           0.908855    0.991320               0.000000   \n",
       "249           0.934134    0.994467               0.000000   \n",
       "250           0.957428    0.997214               0.057471   \n",
       "251           0.978642    0.999118               0.034483   \n",
       "252           1.000000    1.000000               0.011494   \n",
       "\n",
       "     new_permits_thousands  mortgage_rate  gdp_monthly      hcai  \\\n",
       "0                 0.693714       0.911488     0.970310  0.759407   \n",
       "1                 0.673714       0.930320     0.975683  0.759407   \n",
       "2                 0.650286       0.934087     0.982332  0.759407   \n",
       "3                 0.619429       0.926554     0.988707  0.734100   \n",
       "4                 0.588571       0.907721     0.992441  0.734100   \n",
       "..                     ...            ...          ...       ...   \n",
       "248               0.614857       0.214689     0.465847  0.020276   \n",
       "249               0.618286       0.207156     0.477869  0.023151   \n",
       "250               0.676000       0.207156     0.489617  0.023151   \n",
       "251               0.711429       0.145009     0.511566  0.023151   \n",
       "252               0.782857       0.156309     0.533515  0.026025   \n",
       "\n",
       "     employment_percentage  ppi_const_goods  cci_real_estate  deliquency_rate  \\\n",
       "0                 0.981921         0.022886         0.991418         0.097087   \n",
       "1                 0.983468         0.025871         1.000000         0.097087   \n",
       "2                 0.980443         0.030846         0.986840         0.097087   \n",
       "3                 1.000000         0.030846         0.983836         0.092233   \n",
       "4                 0.970735         0.020896         0.979688         0.092233   \n",
       "..                     ...              ...              ...              ...   \n",
       "248               0.469152         0.913433         0.387212         0.038835   \n",
       "249               0.530918         0.912438         0.411100         0.054612   \n",
       "250               0.533873         0.901493         0.404234         0.054612   \n",
       "251               0.544144         0.937313         0.404663         0.054612   \n",
       "252               0.556595         1.000000         0.405378         0.040049   \n",
       "\n",
       "     m3_trillion  \n",
       "0       0.000000  \n",
       "1       0.000896  \n",
       "2       0.002980  \n",
       "3       0.006782  \n",
       "4       0.005954  \n",
       "..           ...  \n",
       "248     0.946265  \n",
       "249     0.956183  \n",
       "250     0.970379  \n",
       "251     0.982002  \n",
       "252     1.000000  \n",
       "\n",
       "[253 rows x 12 columns]"
      ]
     },
     "execution_count": 13,
     "metadata": {},
     "output_type": "execute_result"
    }
   ],
   "source": [
    "from sklearn.preprocessing import MinMaxScaler\n",
    "scaler = MinMaxScaler()\n",
    "n_data=pd.DataFrame(scaler.fit_transform(data), columns=data.columns, index=data.index) \n",
    "n_data"
   ]
  },
  {
   "cell_type": "markdown",
   "id": "e574724e",
   "metadata": {},
   "source": [
    "<font size=\"15\" color='Yellow'>Train-Test Split</font>"
   ]
  },
  {
   "cell_type": "code",
   "execution_count": 14,
   "id": "6a1c9240",
   "metadata": {},
   "outputs": [],
   "source": [
    "from sklearn.model_selection import train_test_split"
   ]
  },
  {
   "cell_type": "code",
   "execution_count": 15,
   "id": "d762d405",
   "metadata": {},
   "outputs": [],
   "source": [
    "X_train, X_test, y_train, y_test = train_test_split(n_data.drop(columns=\"target_home_price\", axis=1), n_data[\"target_home_price\"], \n",
    "                                                    test_size= 0.30, random_state=0)"
   ]
  },
  {
   "cell_type": "markdown",
   "id": "eb1649ae",
   "metadata": {},
   "source": [
    "<font size=\"15\" color='Blue'>Evaluating Regression Models</font>"
   ]
  },
  {
   "cell_type": "code",
   "execution_count": 16,
   "id": "5d42c865",
   "metadata": {},
   "outputs": [
    {
     "name": "stdout",
     "output_type": "stream",
     "text": [
      "Mean MAE: 0.189 (0.033)\n"
     ]
    }
   ],
   "source": [
    "from sklearn.model_selection import cross_val_score\n",
    "from sklearn.model_selection import RepeatedKFold\n",
    "from sklearn.linear_model import Lasso\n",
    "\n",
    "# define model\n",
    "model_1 = Lasso(alpha=1.0)\n",
    "# define model evaluation method\n",
    "cv = RepeatedKFold(n_splits=10, n_repeats=3, random_state=1)\n",
    "# evaluate model\n",
    "scores = cross_val_score(model_1, X_train, y_train, scoring='neg_mean_absolute_error', cv=cv, n_jobs=-1)\n",
    "# force scores to be positive\n",
    "scores = np.absolute(scores)\n",
    "\n",
    "print('Mean MAE: %.3f (%.3f)' % (np.mean(scores), np.std(scores)))"
   ]
  },
  {
   "cell_type": "code",
   "execution_count": 17,
   "id": "1fd1c71b",
   "metadata": {},
   "outputs": [
    {
     "name": "stdout",
     "output_type": "stream",
     "text": [
      "Mean MAE: 0.039 (0.009)\n"
     ]
    }
   ],
   "source": [
    "from sklearn.linear_model import Ridge\n",
    "model_2 = Ridge(alpha=1.0)\n",
    "\n",
    "# evaluate model\n",
    "scores = cross_val_score(model_2, X_train, y_train, scoring='neg_mean_absolute_error', cv=cv, n_jobs=-1)\n",
    "# force scores to be positive\n",
    "scores = np.absolute(scores)\n",
    "print('Mean MAE: %.3f (%.3f)' % (np.mean(scores), np.std(scores)))"
   ]
  },
  {
   "cell_type": "code",
   "execution_count": 18,
   "id": "9ccf084e",
   "metadata": {},
   "outputs": [
    {
     "name": "stdout",
     "output_type": "stream",
     "text": [
      "Mean MAE: 0.025 (0.005)\n"
     ]
    }
   ],
   "source": [
    "from sklearn.linear_model import BayesianRidge\n",
    "model_3 = BayesianRidge()\n",
    "\n",
    "# evaluate model\n",
    "scores = cross_val_score(model_3, X_train, y_train, scoring='neg_mean_absolute_error', cv=cv, n_jobs=-1)\n",
    "# force scores to be positive\n",
    "scores = np.absolute(scores)\n",
    "print('Mean MAE: %.3f (%.3f)' % (np.mean(scores), np.std(scores)))"
   ]
  },
  {
   "cell_type": "code",
   "execution_count": 19,
   "id": "03636614",
   "metadata": {},
   "outputs": [
    {
     "name": "stdout",
     "output_type": "stream",
     "text": [
      "Mean MAE: 0.026 (0.005)\n"
     ]
    }
   ],
   "source": [
    "from sklearn.linear_model import LinearRegression\n",
    "model_4 = LinearRegression()\n",
    "\n",
    "# evaluate model\n",
    "scores = cross_val_score(model_4, X_train, y_train, scoring='neg_mean_absolute_error', cv=cv, n_jobs=-1)\n",
    "# force scores to be positive\n",
    "scores = np.absolute(scores)\n",
    "print('Mean MAE: %.3f (%.3f)' % (np.mean(scores), np.std(scores)))"
   ]
  },
  {
   "cell_type": "code",
   "execution_count": 20,
   "id": "4f81d7e2",
   "metadata": {},
   "outputs": [
    {
     "name": "stdout",
     "output_type": "stream",
     "text": [
      "Mean MAE: 0.189 (0.033)\n"
     ]
    }
   ],
   "source": [
    "from sklearn.linear_model import ElasticNet\n",
    "model_5 = ElasticNet()\n",
    "\n",
    "# evaluate model\n",
    "scores = cross_val_score(model_5, X_train, y_train, scoring='neg_mean_absolute_error', cv=cv, n_jobs=-1)\n",
    "# force scores to be positive\n",
    "scores = np.absolute(scores)\n",
    "print('Mean MAE: %.3f (%.3f)' % (np.mean(scores), np.std(scores)))"
   ]
  },
  {
   "cell_type": "markdown",
   "id": "e131855d",
   "metadata": {},
   "source": [
    "<font size=\"15\" color='purple'>Hyperparameter Selection</font>"
   ]
  },
  {
   "cell_type": "code",
   "execution_count": 21,
   "id": "fe249993",
   "metadata": {},
   "outputs": [
    {
     "data": {
      "text/plain": [
       "GridSearchCV(cv=5, estimator=BayesianRidge(),\n",
       "             param_grid={'alpha_1': [0, 1, 2, 3, 4, 5, 6, 7, 8, 9],\n",
       "                         'alpha_2': [0, 1, 2, 3, 4, 5, 6, 7, 8, 9],\n",
       "                         'lambda_1': [0, 1, 2, 3, 4, 5, 6, 7, 8, 9],\n",
       "                         'lambda_2': [0, 1, 2, 3, 4, 5, 6, 7, 8, 9]})"
      ]
     },
     "execution_count": 21,
     "metadata": {},
     "output_type": "execute_result"
    }
   ],
   "source": [
    "from sklearn.model_selection import GridSearchCV\n",
    "\n",
    "clf = GridSearchCV(BayesianRidge(),{\n",
    "    'alpha_1':list(range(0,10,1)),\n",
    "    'alpha_2':list(range(0,10,1)),\n",
    "    'lambda_1':list(range(0,10,1)),\n",
    "    'lambda_2':list(range(0,10,1))\n",
    "\n",
    "}, cv=5, return_train_score=False )\n",
    "\n",
    "clf.fit(X_train, y_train)\n"
   ]
  },
  {
   "cell_type": "code",
   "execution_count": 22,
   "id": "164ed4cb",
   "metadata": {},
   "outputs": [],
   "source": [
    "df = pd.DataFrame(clf.cv_results_)"
   ]
  },
  {
   "cell_type": "code",
   "execution_count": 23,
   "id": "45bab32f",
   "metadata": {},
   "outputs": [],
   "source": [
    "for i in range(1000):\n",
    "    if df[\"mean_test_score\"][i]== np.max(df[\"mean_test_score\"]):\n",
    "        print(\"score: {}, row no. : {}\".format(np.max(df[\"mean_test_score\"]), i))"
   ]
  },
  {
   "cell_type": "code",
   "execution_count": 24,
   "id": "accf74c3",
   "metadata": {},
   "outputs": [
    {
     "name": "stdout",
     "output_type": "stream",
     "text": [
      "Hyper Parameters are:\n",
      "            alpha_1: 0\n",
      "            alpha_2: 1\n",
      "            \n",
      "            lambda_1: 9\n",
      "            lambda_2: 9\n"
     ]
    }
   ],
   "source": [
    "print('''Hyper Parameters are:\n",
    "            alpha_1: {}\n",
    "            alpha_2: {}\n",
    "            \n",
    "            lambda_1: {}\n",
    "            lambda_2: {}'''.format(df[\"param_alpha_1\"][149], df[\"param_alpha_2\"][149], df[\"param_lambda_1\"][i], df[\"param_lambda_2\"][i]))"
   ]
  },
  {
   "cell_type": "markdown",
   "id": "793fbbdc",
   "metadata": {},
   "source": [
    "<font size=\"15\" color='Gold'>Model Fitting</font>"
   ]
  },
  {
   "cell_type": "code",
   "execution_count": 25,
   "id": "9ef0d395",
   "metadata": {},
   "outputs": [],
   "source": [
    "# Model Defining and Fitting\n",
    "model_br= BayesianRidge(alpha_1=0, alpha_2=1, lambda_1=9, lambda_2=9)\n",
    "fit_data = model_br.fit(X_train, y_train)\n"
   ]
  },
  {
   "cell_type": "code",
   "execution_count": 26,
   "id": "f633c15b",
   "metadata": {},
   "outputs": [
    {
     "data": {
      "image/png": "[encoded data removed]",
      "text/plain": [
       "<Figure size 720x720 with 1 Axes>"
      ]
     },
     "metadata": {
      "needs_background": "light"
     },
     "output_type": "display_data"
    }
   ],
   "source": [
    "# Prediction\n",
    "\n",
    "prediction = fit_data.predict(X_test)\n",
    "\n",
    "# Plotting both the curves simultaneously\n",
    "plt.figure(figsize=(10,10))\n",
    "plt.scatter(y_test, prediction, c='crimson')\n",
    "plt.yscale('log')\n",
    "plt.xscale('log')\n",
    "\n",
    "p1 = max(max(prediction), max(y_test))\n",
    "p2 = min(min(prediction), min(y_test))\n",
    "plt.plot([p1, p2], [p1, p2], 'b-')\n",
    "plt.xlabel('True Values', fontsize=15)\n",
    "plt.ylabel('Predictions', fontsize=15)\n",
    "plt.title(\"Accuracy Plot\")\n",
    "plt.axis('equal')\n",
    "plt.show()\n"
   ]
  },
  {
   "cell_type": "markdown",
   "id": "06368a9f",
   "metadata": {},
   "source": [
    "<font size=\"15\" color='Teal'>Bias-Variance Check</font>"
   ]
  },
  {
   "cell_type": "code",
   "execution_count": 27,
   "id": "3387e5ba",
   "metadata": {},
   "outputs": [
    {
     "name": "stdout",
     "output_type": "stream",
     "text": [
      "Average Bias :  0.0013377559756755694\n",
      "Average Variance :  9.334981089613189e-05\n"
     ]
    }
   ],
   "source": [
    "from mlxtend.evaluate import bias_variance_decomp\n",
    "X_tr = X_train.to_numpy(dtype ='float32')\n",
    "X_tst = X_test.to_numpy(dtype ='float32')\n",
    "y_tr = y_train.to_numpy(dtype ='float32')\n",
    "y_tst = y_test.to_numpy(dtype ='float32')\n",
    "\n",
    "mse, bias, variance = bias_variance_decomp(model_br, X_tr, y_tr, X_tst, y_tst, \n",
    "                                           loss='mse', num_rounds=200, random_seed=123)\n",
    "print(\"Average Bias : \", bias)\n",
    "print(\"Average Variance : \", variance)"
   ]
  },
  {
   "cell_type": "markdown",
   "id": "19bd8e2f",
   "metadata": {},
   "source": [
    "<font size=\"15\" color='Teal'>Ordinary Least Squares (OLS)</font>"
   ]
  },
  {
   "cell_type": "code",
   "execution_count": 28,
   "id": "ef649af8",
   "metadata": {},
   "outputs": [],
   "source": [
    "import statsmodels.api as sm"
   ]
  },
  {
   "cell_type": "code",
   "execution_count": 29,
   "id": "77007342",
   "metadata": {},
   "outputs": [],
   "source": [
    "result = sm.OLS(y_train, X_train).fit()"
   ]
  },
  {
   "cell_type": "code",
   "execution_count": 30,
   "id": "7a230d36",
   "metadata": {},
   "outputs": [
    {
     "name": "stdout",
     "output_type": "stream",
     "text": [
      "                                 OLS Regression Results                                \n",
      "=======================================================================================\n",
      "Dep. Variable:      target_home_price   R-squared (uncentered):                   0.992\n",
      "Model:                            OLS   Adj. R-squared (uncentered):              0.992\n",
      "Method:                 Least Squares   F-statistic:                              1897.\n",
      "Date:                Wed, 17 Aug 2022   Prob (F-statistic):                   2.76e-168\n",
      "Time:                        09:25:31   Log-Likelihood:                          302.39\n",
      "No. Observations:                 177   AIC:                                     -582.8\n",
      "Df Residuals:                     166   BIC:                                     -547.8\n",
      "Df Model:                          11                                                  \n",
      "Covariance Type:            nonrobust                                                  \n",
      "=========================================================================================\n",
      "                            coef    std err          t      P>|t|      [0.025      0.975]\n",
      "-----------------------------------------------------------------------------------------\n",
      "population                0.3978      0.122      3.274      0.001       0.158       0.638\n",
      "monthly_supply_houses     0.4942      0.035     13.959      0.000       0.424       0.564\n",
      "new_permits_thousands     0.2872      0.059      4.907      0.000       0.172       0.403\n",
      "mortgage_rate            -0.0259      0.051     -0.509      0.612      -0.127       0.075\n",
      "gdp_monthly              -0.1795      0.067     -2.679      0.008      -0.312      -0.047\n",
      "hcai                      0.3070      0.044      6.913      0.000       0.219       0.395\n",
      "employment_percentage    -0.1943      0.069     -2.797      0.006      -0.331      -0.057\n",
      "ppi_const_goods           0.2475      0.077      3.229      0.001       0.096       0.399\n",
      "cci_real_estate          -0.0103      0.032     -0.325      0.746      -0.073       0.053\n",
      "deliquency_rate          -0.2219      0.027     -8.305      0.000      -0.275      -0.169\n",
      "m3_trillion               0.2833      0.151      1.876      0.062      -0.015       0.581\n",
      "==============================================================================\n",
      "Omnibus:                       10.331   Durbin-Watson:                   2.015\n",
      "Prob(Omnibus):                  0.006   Jarque-Bera (JB):               18.753\n",
      "Skew:                           0.238   Prob(JB):                     8.47e-05\n",
      "Kurtosis:                       4.522   Cond. No.                         95.6\n",
      "==============================================================================\n",
      "\n",
      "Notes:\n",
      "[1] R² is computed without centering (uncentered) since the model does not contain a constant.\n",
      "[2] Standard Errors assume that the covariance matrix of the errors is correctly specified.\n"
     ]
    }
   ],
   "source": [
    "print(result.summary())"
   ]
  },
  {
   "cell_type": "markdown",
   "id": "f7033dad",
   "metadata": {},
   "source": [
    "<font size=\"15\" color='Teal'>Conclusion</font>"
   ]
  },
  {
   "cell_type": "markdown",
   "id": "363317a2",
   "metadata": {},
   "source": [
    "Prediction Model: Bayesian Regression Model - as it shows the least error and better accuracy among other regression models.\n",
    "\n",
    "OLS Analysis shows that monthly GDP, morgage rate and cci rate does not impact much on the house prices as per the collected data."
   ]
  },
  {
   "cell_type": "markdown",
   "id": "21104e0d",
   "metadata": {},
   "source": [
    "<font size=\"5\" color='Teal'>Supply and Demand</font>\n",
    "\n",
    "The housing market is subject to the same economic laws of supply and demand as every other industry. When there are more buyers than sellers, the supply of houses goes down and the demand goes up, making houses harder to buy and more expensive. It's not just the amount of houses available, but also how much money is available to buy them. It's rare for a new homeowner to plunk down cash when buying a home. Instead, buyers use debt in the form of a mortgage. As long as banks are willing to keep lending, sellers can ask high prices for their homes and get them. When banks start lending less, however, the price of the house will have to come down or it will sit on the market, unattainable to potential buyers who simply can't get the funding they need to make the purchase.\n",
    "\n",
    "<font size=\"5\" color='Teal'>The Economy</font>\n",
    "\n",
    "When the economy is going strong and unemployment goes down, housing prices tend to rise. In a strong economy, people feel more secure in their jobs and their ability to take on mortgage debt. They're also more likely to get approved for that mortgage. When the economy falters, however, more people find themselves laid off, having to live on unemployment compensation or accept much lower paying jobs. When this happens, fewer people are able to purchase houses, competition for them goes away and motivated sellers must lower their asking price to get a sale."
   ]
  },
  {
   "cell_type": "code",
   "execution_count": null,
   "id": "ee23cc87",
   "metadata": {},
   "outputs": [],
   "source": []
  }
 ],
 "metadata": {
  "kernelspec": {
   "display_name": "Python 3 (ipykernel)",
   "language": "python",
   "name": "python3"
  },
  "language_info": {
   "codemirror_mode": {
    "name": "ipython",
    "version": 3
   },
   "file_extension": ".py",
   "mimetype": "text/x-python",
   "name": "python",
   "nbconvert_exporter": "python",
   "pygments_lexer": "ipython3",
   "version": "3.9.12"
  }
 },
 "nbformat": 4,
 "nbformat_minor": 5
}
